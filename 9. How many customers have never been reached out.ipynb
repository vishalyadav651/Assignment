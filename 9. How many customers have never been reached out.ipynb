{
 "cells": [
  {
   "cell_type": "code",
   "execution_count": 1,
   "id": "28cfabce",
   "metadata": {},
   "outputs": [
    {
     "name": "stdout",
     "output_type": "stream",
     "text": [
      "Number of customers who have never been reached out: 15962\n"
     ]
    }
   ],
   "source": [
    "import pandas as pd\n",
    "import matplotlib.pyplot as plt\n",
    "\n",
    "# Read Portfolio_data.csv file\n",
    "portfolio_data = pd.read_csv('Portfolio_data.csv')\n",
    "\n",
    "# Read CommunicationHistory.csv file\n",
    "communication_history = pd.read_csv('CommunicationHistory.csv')\n",
    "\n",
    "# Get total number of customers\n",
    "total_customers = portfolio_data['Loan Number'].nunique()\n",
    "\n",
    "# Get unique number of customers who have been contacted\n",
    "contacted_customers = communication_history[communication_history['Status'] == 'Completed']['Loan Number'].nunique()\n",
    "\n",
    "# Subtract the number of contacted customers from total customers to get number of uncontacted customers\n",
    "uncontacted_customers = total_customers - contacted_customers\n",
    "\n",
    "# Print the number of customers who have never been reached out\n",
    "print('Number of customers who have never been reached out:', uncontacted_customers)\n"
   ]
  },
  {
   "cell_type": "code",
   "execution_count": null,
   "id": "38e49637",
   "metadata": {},
   "outputs": [],
   "source": []
  }
 ],
 "metadata": {
  "kernelspec": {
   "display_name": "Python 3 (ipykernel)",
   "language": "python",
   "name": "python3"
  },
  "language_info": {
   "codemirror_mode": {
    "name": "ipython",
    "version": 3
   },
   "file_extension": ".py",
   "mimetype": "text/x-python",
   "name": "python",
   "nbconvert_exporter": "python",
   "pygments_lexer": "ipython3",
   "version": "3.9.12"
  }
 },
 "nbformat": 4,
 "nbformat_minor": 5
}
