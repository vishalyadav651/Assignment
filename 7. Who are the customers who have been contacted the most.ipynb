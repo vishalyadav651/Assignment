{
 "cells": [
  {
   "cell_type": "code",
   "execution_count": 1,
   "id": "bcfa45b6",
   "metadata": {},
   "outputs": [
    {
     "name": "stdout",
     "output_type": "stream",
     "text": [
      "       Loan Number  count\n",
      "3392       1659081     38\n",
      "1749       1580447     30\n",
      "1147       1542440     28\n",
      "1429       1564892     28\n",
      "7436       1759399     27\n",
      "10908      1817574     27\n",
      "2739       1637862     26\n",
      "2436       1625201     26\n",
      "4664       1691978     26\n",
      "10677      1814726     26\n"
     ]
    }
   ],
   "source": [
    "import pandas as pd\n",
    "import matplotlib.pyplot as plt\n",
    "\n",
    "# Read CommunicationHistory.csv file\n",
    "communication_history = pd.read_csv('CommunicationHistory.csv')\n",
    "\n",
    "# Group data by customer ID column and get count of calls for each customer\n",
    "calls_per_customer = communication_history.groupby('Loan Number')['Call time'].count().reset_index(name='count')\n",
    "\n",
    "# Sort data in descending order of count column to get customers who have been contacted the most\n",
    "most_contacted_customers = calls_per_customer.sort_values('count', ascending=False)\n",
    "\n",
    "# Print top 10 customers who have been contacted the most\n",
    "print(most_contacted_customers.head(10))\n"
   ]
  },
  {
   "cell_type": "code",
   "execution_count": null,
   "id": "adbf493d",
   "metadata": {},
   "outputs": [],
   "source": []
  }
 ],
 "metadata": {
  "kernelspec": {
   "display_name": "Python 3 (ipykernel)",
   "language": "python",
   "name": "python3"
  },
  "language_info": {
   "codemirror_mode": {
    "name": "ipython",
    "version": 3
   },
   "file_extension": ".py",
   "mimetype": "text/x-python",
   "name": "python",
   "nbconvert_exporter": "python",
   "pygments_lexer": "ipython3",
   "version": "3.9.12"
  }
 },
 "nbformat": 4,
 "nbformat_minor": 5
}
