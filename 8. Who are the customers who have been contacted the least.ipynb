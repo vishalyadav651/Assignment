{
 "cells": [
  {
   "cell_type": "code",
   "execution_count": 3,
   "id": "2c12a9e3",
   "metadata": {},
   "outputs": [
    {
     "name": "stdout",
     "output_type": "stream",
     "text": [
      "       Loan Number  count\n",
      "11219  16748071234      1\n",
      "6627       1740829      1\n",
      "9126       1793349      1\n",
      "9127       1793356      1\n",
      "9129       1793419      1\n",
      "9130       1793436      1\n",
      "6626       1740828      1\n",
      "9135       1793508      1\n",
      "9138       1793557      1\n",
      "9142       1793643      1\n"
     ]
    }
   ],
   "source": [
    "import pandas as pd\n",
    "import matplotlib.pyplot as plt\n",
    "\n",
    "# Read CommunicationHistory.csv file\n",
    "communication_history = pd.read_csv('CommunicationHistory.csv')\n",
    "\n",
    "# Group data by customer ID column and get count of calls for each customer\n",
    "calls_per_customer = communication_history.groupby('Loan Number')['Call time'].count().reset_index(name='count')\n",
    "\n",
    "# Sort data in ascending order of count column to get customers who have been contacted the least\n",
    "least_contacted_customers = calls_per_customer.sort_values('count')\n",
    "\n",
    "# Print top 10 customers who have been contacted the least\n",
    "print(least_contacted_customers.head(10))\n"
   ]
  },
  {
   "cell_type": "code",
   "execution_count": null,
   "id": "dc8ffaf4",
   "metadata": {},
   "outputs": [],
   "source": []
  }
 ],
 "metadata": {
  "kernelspec": {
   "display_name": "Python 3 (ipykernel)",
   "language": "python",
   "name": "python3"
  },
  "language_info": {
   "codemirror_mode": {
    "name": "ipython",
    "version": 3
   },
   "file_extension": ".py",
   "mimetype": "text/x-python",
   "name": "python",
   "nbconvert_exporter": "python",
   "pygments_lexer": "ipython3",
   "version": "3.9.12"
  }
 },
 "nbformat": 4,
 "nbformat_minor": 5
}
