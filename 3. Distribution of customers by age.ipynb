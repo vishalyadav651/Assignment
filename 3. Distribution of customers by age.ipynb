{
 "cells": [
  {
   "cell_type": "code",
   "execution_count": 9,
   "id": "51ca3283",
   "metadata": {},
   "outputs": [
    {
     "name": "stdout",
     "output_type": "stream",
     "text": [
      "24.0    1205\n",
      "23.0    1167\n",
      "26.0    1158\n",
      "25.0    1118\n",
      "27.0    1046\n",
      "28.0    1039\n",
      "22.0     976\n",
      "29.0     898\n",
      "30.0     862\n",
      "31.0     725\n",
      "32.0     661\n",
      "33.0     593\n",
      "21.0     580\n",
      "35.0     460\n",
      "34.0     459\n",
      "36.0     366\n",
      "20.0     354\n",
      "37.0     330\n",
      "38.0     253\n",
      "39.0     215\n",
      "40.0     214\n",
      "19.0     167\n",
      "42.0     156\n",
      "41.0     140\n",
      "43.0     130\n",
      "44.0     110\n",
      "45.0      74\n",
      "47.0      67\n",
      "46.0      66\n",
      "48.0      58\n",
      "49.0      53\n",
      "52.0      48\n",
      "50.0      41\n",
      "18.0      39\n",
      "53.0      36\n",
      "51.0      23\n",
      "54.0      17\n",
      "55.0      11\n",
      "56.0       9\n",
      "59.0       7\n",
      "57.0       6\n",
      "58.0       6\n",
      "62.0       4\n",
      "63.0       3\n",
      "60.0       3\n",
      "64.0       2\n",
      "79.0       1\n",
      "70.0       1\n",
      "68.0       1\n",
      "71.0       1\n",
      "61.0       1\n",
      "Name: age, dtype: int64\n"
     ]
    }
   ],
   "source": [
    "import pandas as pd\n",
    "from datetime import datetime\n",
    "\n",
    "portfolio_data = pd.read_csv(\"Portfolio_data.csv\")\n",
    "\n",
    "def calculate_age(born):\n",
    "    # Check if DOB is missing or invalid\n",
    "    if pd.isna(born) or isinstance(born, float):\n",
    "        return None\n",
    "    # Convert DOB to datetime object\n",
    "    born = datetime.strptime(born, \"%Y-%m-%d %H:%M:%S\").date()\n",
    "    # Get today's date\n",
    "    today = datetime.today().date()\n",
    "    # Calculate age in years\n",
    "    age = today.year - born.year - ((today.month, today.day) < (born.month, born.day))\n",
    "    return age\n",
    "\n",
    "# Add a new column called \"age\" to the dataframe\n",
    "portfolio_data[\"age\"] = portfolio_data[\"DOB\"].apply(calculate_age)\n",
    "\n",
    "# To remove the outliers\n",
    "portfolio_data = portfolio_data[portfolio_data[\"age\"] <= 100]\n",
    "\n",
    "# Get the count of customers at each age\n",
    "age_counts = portfolio_data[\"age\"].value_counts()\n",
    "\n",
    "print(age_counts)\n"
   ]
  },
  {
   "cell_type": "code",
   "execution_count": 23,
   "id": "94632586",
   "metadata": {},
   "outputs": [
    {
     "data": {
      "image/png": "[encoded data removed]",
      "text/plain": [
       "<Figure size 432x288 with 1 Axes>"
      ]
     },
     "metadata": {
      "needs_background": "light"
     },
     "output_type": "display_data"
    }
   ],
   "source": [
    "import matplotlib.pyplot as plt\n",
    "import numpy as np\n",
    "\n",
    "plt.hist(portfolio_data[\"age\"], width = 3)\n",
    "plt.xlabel(\"Age\")\n",
    "plt.ylabel(\"Count\")\n",
    "plt.show()\n"
   ]
  },
  {
   "cell_type": "code",
   "execution_count": null,
   "id": "332a61a6",
   "metadata": {},
   "outputs": [],
   "source": []
  }
 ],
 "metadata": {
  "kernelspec": {
   "display_name": "Python 3 (ipykernel)",
   "language": "python",
   "name": "python3"
  },
  "language_info": {
   "codemirror_mode": {
    "name": "ipython",
    "version": 3
   },
   "file_extension": ".py",
   "mimetype": "text/x-python",
   "name": "python",
   "nbconvert_exporter": "python",
   "pygments_lexer": "ipython3",
   "version": "3.9.12"
  }
 },
 "nbformat": 4,
 "nbformat_minor": 5
}
